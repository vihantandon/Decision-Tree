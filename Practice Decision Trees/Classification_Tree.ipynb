{
 "cells": [
  {
   "cell_type": "code",
   "execution_count": 1,
   "id": "503991b5",
   "metadata": {},
   "outputs": [],
   "source": [
    "import pandas as pd\n",
    "import numpy as np\n",
    "import matplotlib.pyplot as plt"
   ]
  },
  {
   "cell_type": "code",
   "execution_count": 4,
   "id": "da7f27da",
   "metadata": {},
   "outputs": [],
   "source": [
    "x_train = np.array([[1,1,1],\n",
    "                    [0,0,1],\n",
    "                    [0,1,0],\n",
    "                    [1,0,1],\n",
    "                    [1,1,1],\n",
    "                    [1,1,0],\n",
    "                    [0,0,0],\n",
    "                    [1,1,0],\n",
    "                    [0,1,0],\n",
    "                    [0,1,0]])\n",
    "\n",
    "# Ear shape: pointy = 1, Floppy = 0\n",
    "# Face shape: round = 1, not round = 0\n",
    "# Whiskers: present = 1, absent = 0\n",
    "\n",
    "y_train = np.array([1,1,0,0,1,1,0,1,0,0])"
   ]
  },
  {
   "cell_type": "code",
   "execution_count": 5,
   "id": "8f97e842",
   "metadata": {},
   "outputs": [],
   "source": [
    "def entropy(p):\n",
    "    if p==0 or p==1:\n",
    "        return 0\n",
    "    else:\n",
    "        return -p*np.log2(p)-(1-p)*np.log2(1-p)"
   ]
  },
  {
   "cell_type": "code",
   "execution_count": 6,
   "id": "5b43d5e3",
   "metadata": {},
   "outputs": [],
   "source": [
    "def split_indices(X,index_feature):\n",
    "    left = []\n",
    "    right = []\n",
    "    for i,x in enumerate(X):\n",
    "        if x[index_feature] == 1:\n",
    "            left.append(i)\n",
    "        else:\n",
    "            right.append(i)\n",
    "    return left,right\n"
   ]
  },
  {
   "cell_type": "code",
   "execution_count": 7,
   "id": "549faa88",
   "metadata": {},
   "outputs": [],
   "source": [
    "def weighted_entropy(X,y,left,right):\n",
    "    w_left = len(left)/len(X)\n",
    "    w_right = len(right)/len(X)\n",
    "    p_left = sum(y[left])/len(left)\n",
    "    p_right = sum(y[right])/len(right)\n",
    "\n",
    "    weighted_entropy = w_left*entropy(p_left)+w_right*entropy(p_right)\n",
    "    return weighted_entropy"
   ]
  },
  {
   "cell_type": "code",
   "execution_count": 9,
   "id": "d54a4ebb",
   "metadata": {},
   "outputs": [],
   "source": [
    "def information_gain(X,y,left,right):\n",
    "    p_node = sum(y)/len(y)\n",
    "    h_node = entropy(p_node)\n",
    "    w_entropy = weighted_entropy(X,y,left,right)\n",
    "    return h_node - w_entropy"
   ]
  },
  {
   "cell_type": "code",
   "execution_count": 11,
   "id": "5775fdf3",
   "metadata": {},
   "outputs": [
    {
     "name": "stdout",
     "output_type": "stream",
     "text": [
      "Feature:Ear shape, Information gain: 0.28\n",
      "Feature:Face shape, Information gain: 0.03\n",
      "Feature:Whiskers, Information gain: 0.12\n"
     ]
    }
   ],
   "source": [
    "for i,feature_name in enumerate(['Ear shape','Face shape','Whiskers']):\n",
    "    left,right = split_indices(x_train,i)\n",
    "    i_gain = information_gain(x_train,y_train,left,right)\n",
    "    print(f\"Feature:{feature_name}, Information gain: {i_gain:.2f}\")"
   ]
  }
 ],
 "metadata": {
  "kernelspec": {
   "display_name": "Python 3",
   "language": "python",
   "name": "python3"
  },
  "language_info": {
   "codemirror_mode": {
    "name": "ipython",
    "version": 3
   },
   "file_extension": ".py",
   "mimetype": "text/x-python",
   "name": "python",
   "nbconvert_exporter": "python",
   "pygments_lexer": "ipython3",
   "version": "3.12.3"
  }
 },
 "nbformat": 4,
 "nbformat_minor": 5
}
