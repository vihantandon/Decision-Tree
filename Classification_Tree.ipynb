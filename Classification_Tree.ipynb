{
 "cells": [
  {
   "cell_type": "code",
   "execution_count": 1,
   "id": "503991b5",
   "metadata": {},
   "outputs": [],
   "source": [
    "import pandas as pd\n",
    "import numpy as np\n",
    "import matplotlib.pyplot as plt"
   ]
  },
  {
   "cell_type": "code",
   "execution_count": 4,
   "id": "da7f27da",
   "metadata": {},
   "outputs": [],
   "source": [
    "x_train = np.array([[1,1,1],\n",
    "                    [0,0,1],\n",
    "                    [0,1,0],\n",
    "                    [1,0,1],\n",
    "                    [1,1,1],\n",
    "                    [1,1,0],\n",
    "                    [0,0,0],\n",
    "                    [1,1,0],\n",
    "                    [0,1,0],\n",
    "                    [0,1,0]])\n",
    "\n",
    "# Ear shape: pointy = 1, Floppy = 0\n",
    "# Face shape: round = 1, not round = 0\n",
    "# Whiskers: present = 1, absent = 0\n",
    "\n",
    "y_train = np.array([1,1,0,0,1,1,0,1,0,0])"
   ]
  },
  {
   "cell_type": "code",
   "execution_count": null,
   "id": "8f97e842",
   "metadata": {},
   "outputs": [],
   "source": []
  }
 ],
 "metadata": {
  "kernelspec": {
   "display_name": "Python 3",
   "language": "python",
   "name": "python3"
  },
  "language_info": {
   "codemirror_mode": {
    "name": "ipython",
    "version": 3
   },
   "file_extension": ".py",
   "mimetype": "text/x-python",
   "name": "python",
   "nbconvert_exporter": "python",
   "pygments_lexer": "ipython3",
   "version": "3.12.3"
  }
 },
 "nbformat": 4,
 "nbformat_minor": 5
}
